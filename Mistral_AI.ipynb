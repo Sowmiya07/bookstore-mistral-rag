{
 "cells": [
  {
   "cell_type": "code",
   "execution_count": null,
   "id": "3ab8ef95-e40c-480b-b427-d8f0799d06a2",
   "metadata": {},
   "outputs": [],
   "source": [
    "!pip install -U mistralai faiss_cpu"
   ]
  },
  {
   "cell_type": "code",
   "execution_count": 38,
   "id": "b2041cfd-b53e-496a-88d8-a9caca82a3d6",
   "metadata": {},
   "outputs": [
    {
     "name": "stdin",
     "output_type": "stream",
     "text": [
      "Type Mistral API key... ········\n"
     ]
    }
   ],
   "source": [
    "from mistralai import Mistral\n",
    "api_key=getpass(\"Type Mistral API key...\")\n",
    "mistral = Mistral(api_key=api_key)"
   ]
  },
  {
   "cell_type": "code",
   "execution_count": 76,
   "id": "2449593f-c855-42f8-a78c-030e1459869e",
   "metadata": {},
   "outputs": [],
   "source": [
    "import re\n",
    "def create_chunks():\n",
    "    with open(\"documents.md\", \"r\") as file:\n",
    "        docs = []\n",
    "        heading = topic = content = \"\"\n",
    "        while True:\n",
    "            line = file.readline()\n",
    "            if line:\n",
    "                if re.search(r\"^# \\w\", line):\n",
    "                    heading = re.sub(r\"^#\", \"\", line).strip()\n",
    "                elif re.search(r\"^## \\w\", line):\n",
    "                    topic = re.sub(\"^##\", \"\", line).strip()\n",
    "                elif re.search(r\"^\\s*$\", line) is None:\n",
    "                    content = f\"{content} {line}\"\n",
    "                else:\n",
    "                    if content:\n",
    "                        chunk = f\"{heading}/{topic}\\n{content}\"\n",
    "                        docs.append(chunk)\n",
    "                    content = line\n",
    "            else:\n",
    "                break\n",
    "\n",
    "    return docs"
   ]
  },
  {
   "cell_type": "code",
   "execution_count": 77,
   "id": "c00f2a1e-0c6e-480b-ab2f-b66a1203b8fb",
   "metadata": {},
   "outputs": [],
   "source": [
    "chunks  = create_chunks()"
   ]
  },
  {
   "cell_type": "code",
   "execution_count": 78,
   "id": "f16f27d1-92bf-4972-bbf9-71977210c4b6",
   "metadata": {},
   "outputs": [],
   "source": [
    "import numpy as np\n",
    "import time\n",
    "\n",
    "\n",
    "def get_embeddings(input):\n",
    "    time.sleep(10)\n",
    "    embeddings = mistral.embeddings.create(model=\"mistral-embed\", inputs=input)\n",
    "    return embeddings.data[0].embedding\n",
    "\n",
    "doc_embeddings =  np.array([get_embeddings(chunk) for chunk in chunks])"
   ]
  },
  {
   "cell_type": "code",
   "execution_count": 79,
   "id": "d480f260-a468-44af-a110-44c5593c2bfe",
   "metadata": {},
   "outputs": [],
   "source": [
    "import faiss\n",
    "\n",
    "d = doc_embeddings.shape[1]\n",
    "index = faiss.IndexFlatL2(d)\n",
    "index.add(doc_embeddings)"
   ]
  },
  {
   "cell_type": "code",
   "execution_count": 88,
   "id": "951f6dea-f2f3-49fa-acf2-90f182a8cd0b",
   "metadata": {},
   "outputs": [],
   "source": [
    "def retrieve_context(question):\n",
    "    embed = np.array([get_embeddings(question)])\n",
    "    scores, indices = index.search(embed, k=2)\n",
    "    similar_context = [chunks[i] for i in indices.tolist()[0]]\n",
    "    return similar_context"
   ]
  },
  {
   "cell_type": "code",
   "execution_count": 81,
   "id": "3f77ff77-380d-4d1a-a85f-539257419ac7",
   "metadata": {},
   "outputs": [
    {
     "name": "stdout",
     "output_type": "stream",
     "text": [
      "context  ['Nerdy Books/Book information\\n     \\n Title: To Kill a Mockingbird \\n Author: Harper Lee \\n Genre: Historical Fiction, Southern Gothic \\n Publication Date: July 11, 1960 \\n Summary: To Kill a Mockingbird is set in the 1930s in the fictional town of Maycomb, Alabama, and is narrated by Scout Finch, a young girl. The story explores themes of racial injustice, morality, and empathy, particularly through the trial of an African-American man, Tom Robinson, accused of raping a white woman. Scoutâ€™s father, Atticus Finch, defends Robinson, challenging the prejudices of the town. \\n Customer Reviews:\\n      - \"A powerful story of justice and humanity that stays with you long after you finish.\" - Sarah J.\\n      - \"Timeless and profound, an absolute must-read.\" - Tom D. \\n', 'Nerdy Books/Book information\\n     \\n Title: The Catcher in the Rye\\n Author: J.D. Salinger \\n Genre: Literary Fiction \\n Publication Date: July 16, 1951 \\n Summary: The Catcher in the Rye follows the story of Holden Caulfield, a disillusioned and rebellious teenager, as he narrates his experiences and struggles with growing up in post-World War II New York. The novel captures his alienation, cynicism, and quest for meaning as he interacts with the world around him. \\n Customer Reviews:\\n      - \"A raw and honest portrayal of adolescence and its complexities.\" - Emily K.\\n      - \"An essential read for understanding the struggles of youth and identity.\" - Michael L.\\n']\n"
     ]
    }
   ],
   "source": [
    "results = retrieve_context(\"Give me some book titles and authors\")"
   ]
  },
  {
   "cell_type": "code",
   "execution_count": 82,
   "id": "d07309b9-a9e5-4201-9cd6-6946f6a57953",
   "metadata": {},
   "outputs": [
    {
     "data": {
      "text/plain": [
       "['Nerdy Books/Book information\\n     \\n Title: To Kill a Mockingbird \\n Author: Harper Lee \\n Genre: Historical Fiction, Southern Gothic \\n Publication Date: July 11, 1960 \\n Summary: To Kill a Mockingbird is set in the 1930s in the fictional town of Maycomb, Alabama, and is narrated by Scout Finch, a young girl. The story explores themes of racial injustice, morality, and empathy, particularly through the trial of an African-American man, Tom Robinson, accused of raping a white woman. Scoutâ€™s father, Atticus Finch, defends Robinson, challenging the prejudices of the town. \\n Customer Reviews:\\n      - \"A powerful story of justice and humanity that stays with you long after you finish.\" - Sarah J.\\n      - \"Timeless and profound, an absolute must-read.\" - Tom D. \\n',\n",
       " 'Nerdy Books/Book information\\n     \\n Title: The Catcher in the Rye\\n Author: J.D. Salinger \\n Genre: Literary Fiction \\n Publication Date: July 16, 1951 \\n Summary: The Catcher in the Rye follows the story of Holden Caulfield, a disillusioned and rebellious teenager, as he narrates his experiences and struggles with growing up in post-World War II New York. The novel captures his alienation, cynicism, and quest for meaning as he interacts with the world around him. \\n Customer Reviews:\\n      - \"A raw and honest portrayal of adolescence and its complexities.\" - Emily K.\\n      - \"An essential read for understanding the struggles of youth and identity.\" - Michael L.\\n']"
      ]
     },
     "execution_count": 82,
     "metadata": {},
     "output_type": "execute_result"
    }
   ],
   "source": [
    "results"
   ]
  },
  {
   "cell_type": "code",
   "execution_count": 89,
   "id": "81a6abed-fa04-4284-9319-a79bfa247bf5",
   "metadata": {},
   "outputs": [],
   "source": [
    "Bookstore_Name = \"Nerdy Book Store\""
   ]
  },
  {
   "cell_type": "code",
   "execution_count": 93,
   "id": "bc71fe8b-dfa7-489f-bbc8-e1af7d2bab38",
   "metadata": {},
   "outputs": [],
   "source": [
    "def get_chat_response(question):\n",
    "    context = retrieve_context(question)\n",
    "\n",
    "    sys_prompt = f\"\"\"\n",
    "    ###\n",
    "    Context Information: {context}\n",
    "    Bookstore_Name: {Bookstore_Name}\n",
    "    ###\n",
    "    \n",
    "    You are a helpful chat agent for {Bookstore_Name}. \n",
    "    Use the context information given above, answer the query related to Nerdy BookStore.\n",
    "    User Query: {question}\n",
    "    \"\"\"\n",
    "\n",
    "    messages = [{\"role\": \"user\", \"content\": sys_prompt}]\n",
    "    time.sleep(10)\n",
    "    chat_response = mistral.chat.complete(model=\"mistral-small-latest\", messages=messages)\n",
    "    return chat_response.choices[0].message.content"
   ]
  },
  {
   "cell_type": "code",
   "execution_count": 94,
   "id": "d911f0ca-0327-468a-955e-39f303245f51",
   "metadata": {},
   "outputs": [
    {
     "data": {
      "text/plain": [
       "'The address of Nerdy Book Store is:\\n\\nNerdy Book Store,\\n123 Main Street,\\nBook City, BC 12345'"
      ]
     },
     "execution_count": 94,
     "metadata": {},
     "output_type": "execute_result"
    }
   ],
   "source": [
    "get_chat_response(\"What is the address of the Nerdy Book Store?\")"
   ]
  },
  {
   "cell_type": "code",
   "execution_count": 95,
   "id": "a1a60ba2-7a03-4389-b223-b18b624c06fb",
   "metadata": {},
   "outputs": [
    {
     "data": {
      "text/plain": [
       "'Yes, we do have chat support! You can chat with us directly through our website at www.bookstore.com. Our chat support is available Monday to Friday, from 9:00 AM to 6:00 PM.'"
      ]
     },
     "execution_count": 95,
     "metadata": {},
     "output_type": "execute_result"
    }
   ],
   "source": [
    "get_chat_response(\"Do you have chat support?\")"
   ]
  },
  {
   "cell_type": "code",
   "execution_count": 96,
   "id": "dcda0f57-dfe0-4dda-be12-c5317adefa74",
   "metadata": {},
   "outputs": [
    {
     "data": {
      "text/plain": [
       "\"Yes, we do have an event in December! Here are the details:\\n\\n**Children's Storytime Hour**\\n- Date: December 20, 2024\\n- Time: 10:00 AM – 11:00 AM\\n- Location: Nerdy Book Store, Kids’ Section\\n- Storybooks: Where the Wild Things Are by Maurice Sendak, The Very Hungry Caterpillar by Eric Carle\\n- Details: Join us for a fun-filled hour of reading and interactive storytelling for children! This event is perfect for kids ages 3-After the stories, we’ll have a craft activity related to the books we read. Parents are welcome to join the fun!\\n- To Register: No registration required. Just drop in!\""
      ]
     },
     "execution_count": 96,
     "metadata": {},
     "output_type": "execute_result"
    }
   ],
   "source": [
    "get_chat_response(\"Do you have an events in December?\")"
   ]
  },
  {
   "cell_type": "code",
   "execution_count": 97,
   "id": "394b200f-4952-4ec4-a197-cc848a9d8c71",
   "metadata": {},
   "outputs": [
    {
     "data": {
      "text/plain": [
       "\"I'm sorry for any confusion, but the context information provided does not include details about the books available in the store. For information on the books available at Nerdy Book Store, I would recommend visiting their website or contacting their customer support. They offer live chat support Monday to Friday from 9:00 AM to 6:00 PM, which you can access through their website at www.bookstore.com.\""
      ]
     },
     "execution_count": 97,
     "metadata": {},
     "output_type": "execute_result"
    }
   ],
   "source": [
    "get_chat_response(\"What books are available in the store?\")"
   ]
  },
  {
   "cell_type": "code",
   "execution_count": 98,
   "id": "c6b5a23c-a63f-4468-998f-e57a5a3b4d52",
   "metadata": {},
   "outputs": [
    {
     "data": {
      "text/plain": [
       "'Yes, the Nerdy Book Store offers a variety of fictional books. For example, during the Children\\'s Storytime Hour event, fictional storybooks like \"Where the Wild Things Are\" by Maurice Sendak and \"The Very Hungry Caterpillar\" by Eric Carle are read to the children. Additionally, the Monthly Book Club Meeting discusses fictional novels such as \"The Night Circus\" by Erin Morgenstern. These events showcase the store\\'s commitment to providing a wide range of fictional literature for different age groups.'"
      ]
     },
     "execution_count": 98,
     "metadata": {},
     "output_type": "execute_result"
    }
   ],
   "source": [
    "get_chat_response(\"Does the store have fictional books?\")"
   ]
  },
  {
   "cell_type": "code",
   "execution_count": null,
   "id": "d51c3f9d-ddd1-4ea5-82c8-8b27490a36b8",
   "metadata": {},
   "outputs": [],
   "source": []
  }
 ],
 "metadata": {
  "kernelspec": {
   "display_name": "Python 3 (ipykernel)",
   "language": "python",
   "name": "python3"
  },
  "language_info": {
   "codemirror_mode": {
    "name": "ipython",
    "version": 3
   },
   "file_extension": ".py",
   "mimetype": "text/x-python",
   "name": "python",
   "nbconvert_exporter": "python",
   "pygments_lexer": "ipython3",
   "version": "3.12.5"
  }
 },
 "nbformat": 4,
 "nbformat_minor": 5
}
